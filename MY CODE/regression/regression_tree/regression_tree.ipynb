{
 "cells": [
  {
   "cell_type": "code",
   "execution_count": 1,
   "metadata": {},
   "outputs": [],
   "source": [
    "import pandas as pd\n",
    "import matplotlib.pyplot as plt\n",
    "import numpy as np"
   ]
  },
  {
   "cell_type": "code",
   "execution_count": 2,
   "metadata": {},
   "outputs": [],
   "source": [
    "dataset = pd.read_csv('F:\\DESKTOP FOLDERS\\FULL MACHINE LEARNING\\Machine Learning-A-Z-Codes-Datasets\\Machine Learning A-Z (Codes and Datasets)\\Part 2 - Regression\\Section 8 - Decision Tree Regression\\Python\\Position_Salaries.csv')"
   ]
  },
  {
   "cell_type": "code",
   "execution_count": null,
   "metadata": {},
   "outputs": [],
   "source": [
    "\"\"\"\n",
    "after the model has been trained we need to calculate the mean squared error to evaluate our models performance\n",
    "\"\"\"\n",
    "\n",
    "# from sklearn.metrics import mean_absolute_error\n",
    "\n",
    "# predicted_home_prices = melbourne_model.predict(X)\n",
    "# mean_absolute_error(y, predicted_home_prices)\n",
    "\n",
    "\n",
    "\n",
    "\n",
    "# from sklearn.metrics import mean_absolute_error\n",
    "# val_mae = mean_absolute_error(val_y,val_predictions)\n",
    "\n",
    "# # uncomment following line to see the validation_mae\n",
    "# print(val_mae)\n",
    "\n",
    "# # Check your answer\n",
    "\n",
    "\n",
    "\n",
    "\"\"\"\n",
    "while using regression decision Trees, we can experiment with a bunch of tree depths and select the one with the lowest mean squared error\n",
    "\"\"\"\n",
    "\n",
    "\n",
    "# candidate_max_leaf_nodes = [5, 25, 50, 100, 250, 500]\n",
    "# predicted_dict = {}\n",
    "# # Write loop to find the ideal tree size from candidate_max_leaf_nodes\n",
    "# for x in candidate_max_leaf_nodes:\n",
    "#     predicted_dict[x] = get_mae(x, train_X, val_X, train_y, val_y)\n",
    "#     output.append(predicted_value)\n",
    "\n",
    "# # Store the best value of max_leaf_nodes (it will be either 5, 25, 50, 100, 250 or 500\n",
    "# best_tree_size = min(predicted_dict, key=predicted_dict.get)\n",
    "# print(predicted_dict)\n",
    "\n",
    "# print(best_tree_size)\n"
   ]
  },
  {
   "cell_type": "code",
   "execution_count": null,
   "metadata": {},
   "outputs": [],
   "source": [
    "\"\"\"\n",
    "after the best depth has been selected \n",
    "when deploying your model,\n",
    "train it on the full dataset for maximum accuracy\n",
    "\"\"\""
   ]
  },
  {
   "cell_type": "code",
   "execution_count": 7,
   "metadata": {},
   "outputs": [],
   "source": [
    "X = dataset['Level'].values\n",
    "y = dataset.iloc[:,-1].values"
   ]
  },
  {
   "cell_type": "code",
   "execution_count": 13,
   "metadata": {},
   "outputs": [
    {
     "name": "stdout",
     "output_type": "stream",
     "text": [
      "[[  45000]\n",
      " [  50000]\n",
      " [  60000]\n",
      " [  80000]\n",
      " [ 110000]\n",
      " [ 150000]\n",
      " [ 200000]\n",
      " [ 300000]\n",
      " [ 500000]\n",
      " [1000000]]\n"
     ]
    }
   ],
   "source": [
    "y = y.reshape(-1,1)\n",
    "print(y)"
   ]
  },
  {
   "cell_type": "code",
   "execution_count": 12,
   "metadata": {},
   "outputs": [
    {
     "name": "stdout",
     "output_type": "stream",
     "text": [
      "[[ 1]\n",
      " [ 2]\n",
      " [ 3]\n",
      " [ 4]\n",
      " [ 5]\n",
      " [ 6]\n",
      " [ 7]\n",
      " [ 8]\n",
      " [ 9]\n",
      " [10]]\n"
     ]
    }
   ],
   "source": [
    "X = X.reshape(-1,1)\n",
    "print(X)"
   ]
  },
  {
   "cell_type": "code",
   "execution_count": 15,
   "metadata": {},
   "outputs": [
    {
     "data": {
      "text/plain": [
       "DecisionTreeRegressor(random_state=0)"
      ]
     },
     "execution_count": 15,
     "metadata": {},
     "output_type": "execute_result"
    }
   ],
   "source": [
    "#training the decision tree resgression on the whole dataset\n",
    "#no need for feature scaling as they are not sensitive to the varaince in data\n",
    "#it is a rule based approach not a decision based approach\n",
    "\n",
    "from sklearn.tree import DecisionTreeRegressor\n",
    "\n",
    "regressor = DecisionTreeRegressor(random_state = 0)\n",
    "regressor.fit(X,y)\n"
   ]
  },
  {
   "cell_type": "code",
   "execution_count": 16,
   "metadata": {},
   "outputs": [
    {
     "data": {
      "text/plain": [
       "array([150000.])"
      ]
     },
     "execution_count": 16,
     "metadata": {},
     "output_type": "execute_result"
    }
   ],
   "source": [
    "#predicting a new result\n",
    "\n",
    "regressor.predict([[6.5]])"
   ]
  },
  {
   "cell_type": "code",
   "execution_count": 19,
   "metadata": {},
   "outputs": [
    {
     "name": "stderr",
     "output_type": "stream",
     "text": [
      "No artists with labels found to put in legend.  Note that artists whose label start with an underscore are ignored when legend() is called with no argument.\n"
     ]
    },
    {
     "data": {
      "image/png": "[encoded data removed]",
      "text/plain": [
       "<Figure size 640x480 with 1 Axes>"
      ]
     },
     "metadata": {},
     "output_type": "display_data"
    }
   ],
   "source": [
    "#visualising the result for decision Tree\n",
    "\n",
    "plt.scatter(X,y)\n",
    "plt.plot(X, regressor.predict(X), color = 'red')\n",
    "plt.title('decison tree regression')\n",
    "plt.xlabel('level of work')\n",
    "plt.ylabel('salary received')\n",
    "plt.legend()\n",
    "plt.show()"
   ]
  },
  {
   "cell_type": "code",
   "execution_count": 23,
   "metadata": {},
   "outputs": [
    {
     "name": "stdout",
     "output_type": "stream",
     "text": [
      "[[1. ]\n",
      " [1.1]\n",
      " [1.2]\n",
      " [1.3]\n",
      " [1.4]\n",
      " [1.5]\n",
      " [1.6]\n",
      " [1.7]\n",
      " [1.8]\n",
      " [1.9]\n",
      " [2. ]\n",
      " [2.1]\n",
      " [2.2]\n",
      " [2.3]\n",
      " [2.4]\n",
      " [2.5]\n",
      " [2.6]\n",
      " [2.7]\n",
      " [2.8]\n",
      " [2.9]\n",
      " [3. ]\n",
      " [3.1]\n",
      " [3.2]\n",
      " [3.3]\n",
      " [3.4]\n",
      " [3.5]\n",
      " [3.6]\n",
      " [3.7]\n",
      " [3.8]\n",
      " [3.9]\n",
      " [4. ]\n",
      " [4.1]\n",
      " [4.2]\n",
      " [4.3]\n",
      " [4.4]\n",
      " [4.5]\n",
      " [4.6]\n",
      " [4.7]\n",
      " [4.8]\n",
      " [4.9]\n",
      " [5. ]\n",
      " [5.1]\n",
      " [5.2]\n",
      " [5.3]\n",
      " [5.4]\n",
      " [5.5]\n",
      " [5.6]\n",
      " [5.7]\n",
      " [5.8]\n",
      " [5.9]\n",
      " [6. ]\n",
      " [6.1]\n",
      " [6.2]\n",
      " [6.3]\n",
      " [6.4]\n",
      " [6.5]\n",
      " [6.6]\n",
      " [6.7]\n",
      " [6.8]\n",
      " [6.9]\n",
      " [7. ]\n",
      " [7.1]\n",
      " [7.2]\n",
      " [7.3]\n",
      " [7.4]\n",
      " [7.5]\n",
      " [7.6]\n",
      " [7.7]\n",
      " [7.8]\n",
      " [7.9]\n",
      " [8. ]\n",
      " [8.1]\n",
      " [8.2]\n",
      " [8.3]\n",
      " [8.4]\n",
      " [8.5]\n",
      " [8.6]\n",
      " [8.7]\n",
      " [8.8]\n",
      " [8.9]\n",
      " [9. ]\n",
      " [9.1]\n",
      " [9.2]\n",
      " [9.3]\n",
      " [9.4]\n",
      " [9.5]\n",
      " [9.6]\n",
      " [9.7]\n",
      " [9.8]\n",
      " [9.9]]\n"
     ]
    }
   ],
   "source": [
    "X_grid = np.arange(min(X), max(X), 0.1)\n",
    "X_grid = X_grid.reshape(-1,1)\n",
    "print(X_grid)"
   ]
  },
  {
   "cell_type": "code",
   "execution_count": 24,
   "metadata": {},
   "outputs": [
    {
     "name": "stderr",
     "output_type": "stream",
     "text": [
      "No artists with labels found to put in legend.  Note that artists whose label start with an underscore are ignored when legend() is called with no argument.\n"
     ]
    },
    {
     "data": {
      "image/png": "[encoded data removed]",
      "text/plain": [
       "<Figure size 640x480 with 1 Axes>"
      ]
     },
     "metadata": {},
     "output_type": "display_data"
    }
   ],
   "source": [
    "\n",
    "plt.scatter(X,y)\n",
    "plt.plot(X_grid, regressor.predict(X_grid), color = 'red')\n",
    "plt.title('decison tree regression')\n",
    "plt.xlabel('level of work')\n",
    "plt.ylabel('salary received')\n",
    "plt.legend()\n",
    "plt.show()"
   ]
  }
 ],
 "metadata": {
  "kernelspec": {
   "display_name": "base",
   "language": "python",
   "name": "python3"
  },
  "language_info": {
   "codemirror_mode": {
    "name": "ipython",
    "version": 3
   },
   "file_extension": ".py",
   "mimetype": "text/x-python",
   "name": "python",
   "nbconvert_exporter": "python",
   "pygments_lexer": "ipython3",
   "version": "3.9.13"
  },
  "orig_nbformat": 4,
  "vscode": {
   "interpreter": {
    "hash": "20a9e06a1eee47c4abbed4ec8225ad91d78d9800d202b71b6b0a6e47016c6abd"
   }
  }
 },
 "nbformat": 4,
 "nbformat_minor": 2
}
